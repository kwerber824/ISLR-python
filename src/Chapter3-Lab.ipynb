{
 "cells": [
  {
   "cell_type": "markdown",
   "source": [
    "3.6 Lab: Linear Regression"
   ],
   "metadata": {
    "collapsed": false
   }
  },
  {
   "cell_type": "code",
   "execution_count": 2,
   "outputs": [],
   "source": [
    "import numpy as np\n",
    "import pandas as pd\n",
    "from sklearn.linear_model import LinearRegression\n",
    "import statsmodels.formula.api as smf"
   ],
   "metadata": {
    "collapsed": false
   }
  },
  {
   "cell_type": "code",
   "execution_count": 3,
   "outputs": [
    {
     "name": "stdout",
     "output_type": "stream",
     "text": [
      "<class 'pandas.core.frame.DataFrame'>\n",
      "RangeIndex: 506 entries, 0 to 505\n",
      "Data columns (total 14 columns):\n",
      " #   Column   Non-Null Count  Dtype  \n",
      "---  ------   --------------  -----  \n",
      " 0   crim     506 non-null    float64\n",
      " 1   zn       506 non-null    float64\n",
      " 2   indus    506 non-null    float64\n",
      " 3   chas     506 non-null    int64  \n",
      " 4   nox      506 non-null    float64\n",
      " 5   rm       506 non-null    float64\n",
      " 6   age      506 non-null    float64\n",
      " 7   dis      506 non-null    float64\n",
      " 8   rad      506 non-null    int64  \n",
      " 9   tax      506 non-null    int64  \n",
      " 10  ptratio  506 non-null    float64\n",
      " 11  black    506 non-null    float64\n",
      " 12  lstat    506 non-null    float64\n",
      " 13  medv     506 non-null    float64\n",
      "dtypes: float64(11), int64(3)\n",
      "memory usage: 55.5 KB\n"
     ]
    },
    {
     "data": {
      "text/plain": "      crim    zn  indus  chas    nox     rm   age     dis  rad  tax  ptratio  \\\n0  0.00632  18.0   2.31     0  0.538  6.575  65.2  4.0900    1  296     15.3   \n1  0.02731   0.0   7.07     0  0.469  6.421  78.9  4.9671    2  242     17.8   \n2  0.02729   0.0   7.07     0  0.469  7.185  61.1  4.9671    2  242     17.8   \n3  0.03237   0.0   2.18     0  0.458  6.998  45.8  6.0622    3  222     18.7   \n4  0.06905   0.0   2.18     0  0.458  7.147  54.2  6.0622    3  222     18.7   \n\n    black  lstat  medv  \n0  396.90   4.98  24.0  \n1  396.90   9.14  21.6  \n2  392.83   4.03  34.7  \n3  394.63   2.94  33.4  \n4  396.90   5.33  36.2  ",
      "text/html": "<div>\n<style scoped>\n    .dataframe tbody tr th:only-of-type {\n        vertical-align: middle;\n    }\n\n    .dataframe tbody tr th {\n        vertical-align: top;\n    }\n\n    .dataframe thead th {\n        text-align: right;\n    }\n</style>\n<table border=\"1\" class=\"dataframe\">\n  <thead>\n    <tr style=\"text-align: right;\">\n      <th></th>\n      <th>crim</th>\n      <th>zn</th>\n      <th>indus</th>\n      <th>chas</th>\n      <th>nox</th>\n      <th>rm</th>\n      <th>age</th>\n      <th>dis</th>\n      <th>rad</th>\n      <th>tax</th>\n      <th>ptratio</th>\n      <th>black</th>\n      <th>lstat</th>\n      <th>medv</th>\n    </tr>\n  </thead>\n  <tbody>\n    <tr>\n      <th>0</th>\n      <td>0.00632</td>\n      <td>18.0</td>\n      <td>2.31</td>\n      <td>0</td>\n      <td>0.538</td>\n      <td>6.575</td>\n      <td>65.2</td>\n      <td>4.0900</td>\n      <td>1</td>\n      <td>296</td>\n      <td>15.3</td>\n      <td>396.90</td>\n      <td>4.98</td>\n      <td>24.0</td>\n    </tr>\n    <tr>\n      <th>1</th>\n      <td>0.02731</td>\n      <td>0.0</td>\n      <td>7.07</td>\n      <td>0</td>\n      <td>0.469</td>\n      <td>6.421</td>\n      <td>78.9</td>\n      <td>4.9671</td>\n      <td>2</td>\n      <td>242</td>\n      <td>17.8</td>\n      <td>396.90</td>\n      <td>9.14</td>\n      <td>21.6</td>\n    </tr>\n    <tr>\n      <th>2</th>\n      <td>0.02729</td>\n      <td>0.0</td>\n      <td>7.07</td>\n      <td>0</td>\n      <td>0.469</td>\n      <td>7.185</td>\n      <td>61.1</td>\n      <td>4.9671</td>\n      <td>2</td>\n      <td>242</td>\n      <td>17.8</td>\n      <td>392.83</td>\n      <td>4.03</td>\n      <td>34.7</td>\n    </tr>\n    <tr>\n      <th>3</th>\n      <td>0.03237</td>\n      <td>0.0</td>\n      <td>2.18</td>\n      <td>0</td>\n      <td>0.458</td>\n      <td>6.998</td>\n      <td>45.8</td>\n      <td>6.0622</td>\n      <td>3</td>\n      <td>222</td>\n      <td>18.7</td>\n      <td>394.63</td>\n      <td>2.94</td>\n      <td>33.4</td>\n    </tr>\n    <tr>\n      <th>4</th>\n      <td>0.06905</td>\n      <td>0.0</td>\n      <td>2.18</td>\n      <td>0</td>\n      <td>0.458</td>\n      <td>7.147</td>\n      <td>54.2</td>\n      <td>6.0622</td>\n      <td>3</td>\n      <td>222</td>\n      <td>18.7</td>\n      <td>396.90</td>\n      <td>5.33</td>\n      <td>36.2</td>\n    </tr>\n  </tbody>\n</table>\n</div>"
     },
     "execution_count": 3,
     "metadata": {},
     "output_type": "execute_result"
    }
   ],
   "source": [
    "boston = pd.read_csv('../data/Boston.csv')\n",
    "boston.info()\n",
    "boston.head(5)"
   ],
   "metadata": {
    "collapsed": false
   }
  },
  {
   "cell_type": "code",
   "execution_count": 15,
   "outputs": [
    {
     "data": {
      "text/plain": "<PandasArray>\n[\n[4.98],\n[9.14],\n[4.03],\n[2.94],\n[5.33],\n[5.21],\n[12.43],\n[19.15],\n[29.93],\n[17.1],\n[20.45],\n[13.27],\n[15.71],\n[8.26],\n[10.26],\n[8.47],\n[6.58],\n[14.67],\n[11.69],\n[11.28],\n[21.02],\n[13.83],\n[18.72],\n[19.88],\n[16.3],\n[16.51],\n[14.81],\n[17.28],\n[12.8],\n[11.98],\n[22.6],\n[13.04],\n[27.71],\n[18.35],\n[20.34],\n[9.68],\n[11.41],\n[8.77],\n[10.13],\n[4.32],\n[1.98],\n[4.84],\n[5.81],\n[7.44],\n[9.55],\n[10.21],\n[14.15],\n[18.8],\n[30.81],\n[16.2],\n[13.45],\n[9.43],\n[5.28],\n[8.43],\n[14.8],\n[4.81],\n[5.77],\n[3.95],\n[6.86],\n[9.22],\n[13.15],\n[14.44],\n[6.73],\n[9.5],\n[8.05],\n[4.67],\n[10.24],\n[8.1],\n[13.09],\n[8.79],\n[6.72],\n[9.88],\n[5.52],\n[7.54],\n[6.78],\n[8.94],\n[11.97],\n[10.27],\n[12.34],\n[9.1],\n[5.29],\n[7.22],\n[6.72],\n[7.51],\n[9.62],\n[6.53],\n[12.86],\n[8.44],\n[5.5],\n[5.7],\n[8.81],\n[8.2],\n[8.16],\n[6.21],\n[10.59],\n[6.65],\n[11.34],\n[4.21],\n[3.57],\n[6.19],\n[9.42],\n[7.67],\n[10.63],\n[13.44],\n[12.33],\n[16.47],\n[18.66],\n[14.09],\n[12.27],\n[15.55],\n[13.0],\n[10.16],\n[16.21],\n[17.09],\n[10.45],\n[15.76],\n[12.04],\n[10.3],\n[15.37],\n[13.61],\n[14.37],\n[14.27],\n[17.93],\n[25.41],\n[17.58],\n[14.81],\n[27.26],\n[17.19],\n[15.39],\n[18.34],\n[12.6],\n[12.26],\n[11.12],\n[15.03],\n[17.31],\n[16.96],\n[16.9],\n[14.59],\n[21.32],\n[18.46],\n[24.16],\n[34.41],\n[26.82],\n[26.42],\n[29.29],\n[27.8],\n[16.65],\n[29.53],\n[28.32],\n[21.45],\n[14.1],\n[13.28],\n[12.12],\n[15.79],\n[15.12],\n[15.02],\n[16.14],\n[4.59],\n[6.43],\n[7.39],\n[5.5],\n[1.73],\n[1.92],\n[3.32],\n[11.64],\n[9.81],\n[3.7],\n[12.14],\n[11.1],\n[11.32],\n[14.43],\n[12.03],\n[14.69],\n[9.04],\n[9.64],\n[5.33],\n[10.11],\n[6.29],\n[6.92],\n[5.04],\n[7.56],\n[9.45],\n[4.82],\n[5.68],\n[13.98],\n[13.15],\n[4.45],\n[6.68],\n[4.56],\n[5.39],\n[5.1],\n[4.69],\n[2.87],\n[5.03],\n[4.38],\n[2.97],\n[4.08],\n[8.61],\n[6.62],\n[4.56],\n[4.45],\n[7.43],\n[3.11],\n[3.81],\n[2.88],\n[10.87],\n[10.97],\n[18.06],\n[14.66],\n[23.09],\n[17.27],\n[23.98],\n[16.03],\n[9.38],\n[29.55],\n[9.47],\n[13.51],\n[9.69],\n[17.92],\n[10.5],\n[9.71],\n[21.46],\n[9.93],\n[7.6],\n[4.14],\n[4.63],\n[3.13],\n[6.36],\n[3.92],\n[3.76],\n[11.65],\n[5.25],\n[2.47],\n[3.95],\n[8.05],\n[10.88],\n[9.54],\n[4.73],\n[6.36],\n[7.37],\n[11.38],\n[12.4],\n[11.22],\n[5.19],\n[12.5],\n[18.46],\n[9.16],\n[10.15],\n[9.52],\n[6.56],\n[5.9],\n[3.59],\n[3.53],\n[3.54],\n[6.57],\n[9.25],\n[3.11],\n[5.12],\n[7.79],\n[6.9],\n[9.59],\n[7.26],\n[5.91],\n[11.25],\n[8.1],\n[10.45],\n[14.79],\n[7.44],\n[3.16],\n[13.65],\n[13.0],\n[6.59],\n[7.73],\n[6.58],\n[3.53],\n[2.98],\n[6.05],\n[4.16],\n[7.19],\n[4.85],\n[3.76],\n[4.59],\n[3.01],\n[3.16],\n[7.85],\n[8.23],\n[12.93],\n[7.14],\n[7.6],\n[9.51],\n[3.33],\n[3.56],\n[4.7],\n[8.58],\n[10.4],\n[6.27],\n[7.39],\n[15.84],\n[4.97],\n[4.74],\n[6.07],\n[9.5],\n[8.67],\n[4.86],\n[6.93],\n[8.93],\n[6.47],\n[7.53],\n[4.54],\n[9.97],\n[12.64],\n[5.98],\n[11.72],\n[7.9],\n[9.28],\n[11.5],\n[18.33],\n[15.94],\n[10.36],\n[12.73],\n[7.2],\n[6.87],\n[7.7],\n[11.74],\n[6.12],\n[5.08],\n[6.15],\n[12.79],\n[9.97],\n[7.34],\n[9.09],\n[12.43],\n[7.83],\n[5.68],\n[6.75],\n[8.01],\n[9.8],\n[10.56],\n[8.51],\n[9.74],\n[9.29],\n[5.49],\n[8.65],\n[7.18],\n[4.61],\n[10.53],\n[12.67],\n[6.36],\n[5.99],\n[5.89],\n[5.98],\n[5.49],\n[7.79],\n[4.5],\n[8.05],\n[5.57],\n[17.6],\n[13.27],\n[11.48],\n[12.67],\n[7.79],\n[14.19],\n[10.19],\n[14.64],\n[5.29],\n[7.12],\n[14.0],\n[13.33],\n[3.26],\n[3.73],\n[2.96],\n[9.53],\n[8.88],\n[34.77],\n[37.97],\n[13.44],\n[23.24],\n[21.24],\n[23.69],\n[21.78],\n[17.21],\n[21.08],\n[23.6],\n[24.56],\n[30.63],\n[30.81],\n[28.28],\n[31.99],\n[30.62],\n[20.85],\n[17.11],\n[18.76],\n[25.68],\n[15.17],\n[16.35],\n[17.12],\n[19.37],\n[19.92],\n[30.59],\n[29.97],\n[26.77],\n[20.32],\n[20.31],\n[19.77],\n[27.38],\n[22.98],\n[23.34],\n[12.13],\n[26.4],\n[19.78],\n[10.11],\n[21.22],\n[34.37],\n[20.08],\n[36.98],\n[29.05],\n[25.79],\n[26.64],\n[20.62],\n[22.74],\n[15.02],\n[15.7],\n[14.1],\n[23.29],\n[17.16],\n[24.39],\n[15.69],\n[14.52],\n[21.52],\n[24.08],\n[17.64],\n[19.69],\n[12.03],\n[16.22],\n[15.17],\n[23.27],\n[18.05],\n[26.45],\n[34.02],\n[22.88],\n[22.11],\n[19.52],\n[16.59],\n[18.85],\n[23.79],\n[23.98],\n[17.79],\n[16.44],\n[18.13],\n[19.31],\n[17.44],\n[17.73],\n[17.27],\n[16.74],\n[18.71],\n[18.13],\n[19.01],\n[16.94],\n[16.23],\n[14.7],\n[16.42],\n[14.65],\n[13.99],\n[10.29],\n[13.22],\n[14.13],\n[17.15],\n[21.32],\n[18.13],\n[14.76],\n[16.29],\n[12.87],\n[14.36],\n[11.66],\n[18.14],\n[24.1],\n[18.68],\n[24.91],\n[18.03],\n[13.11],\n[10.74],\n[7.74],\n[7.01],\n[10.42],\n[13.34],\n[10.58],\n[14.98],\n[11.45],\n[18.06],\n[23.97],\n[29.68],\n[18.07],\n[13.35],\n[12.01],\n[13.59],\n[17.6],\n[21.14],\n[14.1],\n[12.92],\n[15.1],\n[14.33],\n[9.67],\n[9.08],\n[5.64],\n[6.48],\n[7.88]\n]\nShape: (506, 1), dtype: float64"
     },
     "execution_count": 15,
     "metadata": {},
     "output_type": "execute_result"
    }
   ],
   "source": [
    "X = boston.lstat.array.reshape(-1, 1)\n",
    "X"
   ],
   "metadata": {
    "collapsed": false
   }
  },
  {
   "cell_type": "code",
   "execution_count": 6,
   "outputs": [],
   "source": [
    "y = boston.medv\n",
    "singleRegression = LinearRegression().fit(X, y)"
   ],
   "metadata": {
    "collapsed": false
   }
  },
  {
   "cell_type": "code",
   "execution_count": 16,
   "outputs": [
    {
     "name": "stdout",
     "output_type": "stream",
     "text": [
      "34.55384087938311\n",
      "[-0.95004935]\n"
     ]
    },
    {
     "data": {
      "text/plain": "0      24.0\n1      21.6\n2      34.7\n3      33.4\n4      36.2\n       ... \n501    22.4\n502    20.6\n503    23.9\n504    22.0\n505    11.9\nName: medv, Length: 506, dtype: float64"
     },
     "execution_count": 16,
     "metadata": {},
     "output_type": "execute_result"
    }
   ],
   "source": [
    "print(singleRegression.intercept_)\n",
    "print(singleRegression.coef_)\n",
    "y"
   ],
   "metadata": {
    "collapsed": false
   }
  },
  {
   "cell_type": "code",
   "execution_count": 9,
   "outputs": [],
   "source": [
    "statmodel = smf.ols('medv ~ lstat', boston).fit()"
   ],
   "metadata": {
    "collapsed": false
   }
  },
  {
   "cell_type": "code",
   "execution_count": 10,
   "outputs": [
    {
     "data": {
      "text/plain": "<class 'statsmodels.iolib.summary.Summary'>\n\"\"\"\n                            OLS Regression Results                            \n==============================================================================\nDep. Variable:                   medv   R-squared:                       0.544\nModel:                            OLS   Adj. R-squared:                  0.543\nMethod:                 Least Squares   F-statistic:                     601.6\nDate:                Sun, 08 Jan 2023   Prob (F-statistic):           5.08e-88\nTime:                        12:27:23   Log-Likelihood:                -1641.5\nNo. Observations:                 506   AIC:                             3287.\nDf Residuals:                     504   BIC:                             3295.\nDf Model:                           1                                         \nCovariance Type:            nonrobust                                         \n==============================================================================\n                 coef    std err          t      P>|t|      [0.025      0.975]\n------------------------------------------------------------------------------\nIntercept     34.5538      0.563     61.415      0.000      33.448      35.659\nlstat         -0.9500      0.039    -24.528      0.000      -1.026      -0.874\n==============================================================================\nOmnibus:                      137.043   Durbin-Watson:                   0.892\nProb(Omnibus):                  0.000   Jarque-Bera (JB):              291.373\nSkew:                           1.453   Prob(JB):                     5.36e-64\nKurtosis:                       5.319   Cond. No.                         29.7\n==============================================================================\n\nNotes:\n[1] Standard Errors assume that the covariance matrix of the errors is correctly specified.\n\"\"\"",
      "text/html": "<table class=\"simpletable\">\n<caption>OLS Regression Results</caption>\n<tr>\n  <th>Dep. Variable:</th>          <td>medv</td>       <th>  R-squared:         </th> <td>   0.544</td>\n</tr>\n<tr>\n  <th>Model:</th>                   <td>OLS</td>       <th>  Adj. R-squared:    </th> <td>   0.543</td>\n</tr>\n<tr>\n  <th>Method:</th>             <td>Least Squares</td>  <th>  F-statistic:       </th> <td>   601.6</td>\n</tr>\n<tr>\n  <th>Date:</th>             <td>Sun, 08 Jan 2023</td> <th>  Prob (F-statistic):</th> <td>5.08e-88</td>\n</tr>\n<tr>\n  <th>Time:</th>                 <td>12:27:23</td>     <th>  Log-Likelihood:    </th> <td> -1641.5</td>\n</tr>\n<tr>\n  <th>No. Observations:</th>      <td>   506</td>      <th>  AIC:               </th> <td>   3287.</td>\n</tr>\n<tr>\n  <th>Df Residuals:</th>          <td>   504</td>      <th>  BIC:               </th> <td>   3295.</td>\n</tr>\n<tr>\n  <th>Df Model:</th>              <td>     1</td>      <th>                     </th>     <td> </td>   \n</tr>\n<tr>\n  <th>Covariance Type:</th>      <td>nonrobust</td>    <th>                     </th>     <td> </td>   \n</tr>\n</table>\n<table class=\"simpletable\">\n<tr>\n      <td></td>         <th>coef</th>     <th>std err</th>      <th>t</th>      <th>P>|t|</th>  <th>[0.025</th>    <th>0.975]</th>  \n</tr>\n<tr>\n  <th>Intercept</th> <td>   34.5538</td> <td>    0.563</td> <td>   61.415</td> <td> 0.000</td> <td>   33.448</td> <td>   35.659</td>\n</tr>\n<tr>\n  <th>lstat</th>     <td>   -0.9500</td> <td>    0.039</td> <td>  -24.528</td> <td> 0.000</td> <td>   -1.026</td> <td>   -0.874</td>\n</tr>\n</table>\n<table class=\"simpletable\">\n<tr>\n  <th>Omnibus:</th>       <td>137.043</td> <th>  Durbin-Watson:     </th> <td>   0.892</td>\n</tr>\n<tr>\n  <th>Prob(Omnibus):</th> <td> 0.000</td>  <th>  Jarque-Bera (JB):  </th> <td> 291.373</td>\n</tr>\n<tr>\n  <th>Skew:</th>          <td> 1.453</td>  <th>  Prob(JB):          </th> <td>5.36e-64</td>\n</tr>\n<tr>\n  <th>Kurtosis:</th>      <td> 5.319</td>  <th>  Cond. No.          </th> <td>    29.7</td>\n</tr>\n</table><br/><br/>Notes:<br/>[1] Standard Errors assume that the covariance matrix of the errors is correctly specified."
     },
     "execution_count": 10,
     "metadata": {},
     "output_type": "execute_result"
    }
   ],
   "source": [
    "statmodel.summary()"
   ],
   "metadata": {
    "collapsed": false
   }
  },
  {
   "cell_type": "code",
   "execution_count": 11,
   "outputs": [
    {
     "data": {
      "text/plain": "array([29.80359411, 25.05334734, 20.30310057])"
     },
     "execution_count": 11,
     "metadata": {},
     "output_type": "execute_result"
    }
   ],
   "source": [
    "predictor_array = np.array([5, 10, 15]).reshape(-1, 1)\n",
    "prediction = singleRegression.predict(predictor_array)\n",
    "prediction"
   ],
   "metadata": {
    "collapsed": false
   }
  },
  {
   "cell_type": "code",
   "execution_count": 17,
   "outputs": [],
   "source": [
    "X = boston.drop('medv', axis=1)"
   ],
   "metadata": {
    "collapsed": false
   }
  },
  {
   "cell_type": "code",
   "execution_count": null,
   "outputs": [],
   "source": [],
   "metadata": {
    "collapsed": false
   }
  }
 ],
 "metadata": {
  "kernelspec": {
   "display_name": "Python 3",
   "language": "python",
   "name": "python3"
  },
  "language_info": {
   "codemirror_mode": {
    "name": "ipython",
    "version": 2
   },
   "file_extension": ".py",
   "mimetype": "text/x-python",
   "name": "python",
   "nbconvert_exporter": "python",
   "pygments_lexer": "ipython2",
   "version": "2.7.6"
  }
 },
 "nbformat": 4,
 "nbformat_minor": 0
}
